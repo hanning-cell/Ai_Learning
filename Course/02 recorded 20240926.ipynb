{
 "cells": [
  {
   "cell_type": "code",
   "execution_count": 9,
   "id": "b0b65c93-bee8-442d-8937-ff2c8735ae5a",
   "metadata": {},
   "outputs": [
    {
     "name": "stdout",
     "output_type": "stream",
     "text": [
      "1*1=1\t1*2=2\t1*3=3\t1*4=4\t1*5=5\t1*6=6\t1*7=7\t1*8=8\t1*9=9\t\n",
      "\t2*2=4\t2*3=6\t2*4=8\t2*5=10\t2*6=12\t2*7=14\t2*8=16\t2*9=18\t\n",
      "\t\t3*3=9\t3*4=12\t3*5=15\t3*6=18\t3*7=21\t3*8=24\t3*9=27\t\n",
      "\t\t\t4*4=16\t4*5=20\t4*6=24\t4*7=28\t4*8=32\t4*9=36\t\n",
      "\t\t\t\t5*5=25\t5*6=30\t5*7=35\t5*8=40\t5*9=45\t\n",
      "\t\t\t\t\t6*6=36\t6*7=42\t6*8=48\t6*9=54\t\n",
      "\t\t\t\t\t\t7*7=49\t7*8=56\t7*9=63\t\n",
      "\t\t\t\t\t\t\t8*8=64\t8*9=72\t\n",
      "\t\t\t\t\t\t\t\t9*9=81\t\n"
     ]
    }
   ],
   "source": [
    "for x in range(1, 10):\n",
    "    for y in range(1, 10):\n",
    "        if (x <= y):\n",
    "            print(f'{x}*{y}={x*y}', end='\\t')\n",
    "        else:\n",
    "            print('', end='\\t')\n",
    "    print('')"
   ]
  },
  {
   "cell_type": "code",
   "execution_count": 11,
   "id": "86913fc1-f6fc-45a1-b0c8-9fd0c989c384",
   "metadata": {},
   "outputs": [],
   "source": [
    "a = list(range(10))"
   ]
  },
  {
   "cell_type": "code",
   "execution_count": 13,
   "id": "a0eb345c-1fc1-4897-aa3a-a42e360b2715",
   "metadata": {},
   "outputs": [
    {
     "data": {
      "text/plain": [
       "[0, 1, 2, 3, 4, 5, 6, 7, 8, 9]"
      ]
     },
     "execution_count": 13,
     "metadata": {},
     "output_type": "execute_result"
    }
   ],
   "source": [
    "a"
   ]
  },
  {
   "cell_type": "code",
   "execution_count": 15,
   "id": "cc482ef6-f90c-4b77-85ac-6355a8d8946d",
   "metadata": {},
   "outputs": [
    {
     "name": "stdout",
     "output_type": "stream",
     "text": [
      "[1, 2, 3, 4, 5, 6, 7, 8, 9]\n"
     ]
    }
   ],
   "source": [
    "del a[0]\n",
    "print(a)"
   ]
  },
  {
   "cell_type": "code",
   "execution_count": 17,
   "id": "3490f9d7-84ef-4e96-a100-8e0dfb26ebb3",
   "metadata": {},
   "outputs": [
    {
     "name": "stdout",
     "output_type": "stream",
     "text": [
      "[]\n"
     ]
    }
   ],
   "source": [
    "a.clear()\n",
    "print(a)"
   ]
  },
  {
   "cell_type": "code",
   "execution_count": 19,
   "id": "176c6512-7cda-4c86-97d0-a8afe89c4877",
   "metadata": {},
   "outputs": [],
   "source": [
    "a = list(range(3))"
   ]
  },
  {
   "cell_type": "code",
   "execution_count": 21,
   "id": "49104410-4477-4bc0-b046-017a874214fe",
   "metadata": {},
   "outputs": [
    {
     "data": {
      "text/plain": [
       "[0, 1, 2]"
      ]
     },
     "execution_count": 21,
     "metadata": {},
     "output_type": "execute_result"
    }
   ],
   "source": [
    "a"
   ]
  },
  {
   "cell_type": "code",
   "execution_count": 23,
   "id": "7fb778cb-d976-4913-b734-9fdc752b7d3d",
   "metadata": {},
   "outputs": [],
   "source": [
    "b = a"
   ]
  },
  {
   "cell_type": "code",
   "execution_count": 25,
   "id": "96c135db-6172-4da6-8b28-92ce9098b495",
   "metadata": {},
   "outputs": [
    {
     "data": {
      "text/plain": [
       "[0, 1, 2]"
      ]
     },
     "execution_count": 25,
     "metadata": {},
     "output_type": "execute_result"
    }
   ],
   "source": [
    "b"
   ]
  },
  {
   "cell_type": "code",
   "execution_count": 27,
   "id": "b95d0848-5267-423d-bab9-a726e53e589c",
   "metadata": {},
   "outputs": [],
   "source": [
    "b.append(3)"
   ]
  },
  {
   "cell_type": "code",
   "execution_count": 29,
   "id": "9627993d-222b-4aaa-8614-c7558fc5f4f7",
   "metadata": {},
   "outputs": [
    {
     "data": {
      "text/plain": [
       "[0, 1, 2, 3]"
      ]
     },
     "execution_count": 29,
     "metadata": {},
     "output_type": "execute_result"
    }
   ],
   "source": [
    "b"
   ]
  },
  {
   "cell_type": "code",
   "execution_count": 31,
   "id": "e39ed4c4-955b-492a-a61e-1cd3c28ba7a0",
   "metadata": {},
   "outputs": [
    {
     "data": {
      "text/plain": [
       "[0, 1, 2, 3]"
      ]
     },
     "execution_count": 31,
     "metadata": {},
     "output_type": "execute_result"
    }
   ],
   "source": [
    "a"
   ]
  },
  {
   "cell_type": "code",
   "execution_count": 33,
   "id": "34192389-0273-4f2b-a504-e46d5571c501",
   "metadata": {},
   "outputs": [],
   "source": [
    "b = [0, 1, 2, 3, 4]"
   ]
  },
  {
   "cell_type": "code",
   "execution_count": 37,
   "id": "4fe59df1-b937-4342-890a-439e59d616b3",
   "metadata": {},
   "outputs": [
    {
     "data": {
      "text/plain": [
       "[0, 1, 2, 3]"
      ]
     },
     "execution_count": 37,
     "metadata": {},
     "output_type": "execute_result"
    }
   ],
   "source": [
    "a"
   ]
  },
  {
   "cell_type": "code",
   "execution_count": 39,
   "id": "4ec3b8a9-c7ef-4cfe-96b7-ee512842f957",
   "metadata": {},
   "outputs": [],
   "source": [
    "b=a"
   ]
  },
  {
   "cell_type": "code",
   "execution_count": 41,
   "id": "87b25e38-b6e4-4de2-b6a9-f1eb0b95d0c9",
   "metadata": {},
   "outputs": [],
   "source": [
    "b[0] = 100"
   ]
  },
  {
   "cell_type": "code",
   "execution_count": 43,
   "id": "3aff104d-863a-47da-b31f-4077aa6d8722",
   "metadata": {},
   "outputs": [
    {
     "data": {
      "text/plain": [
       "[100, 1, 2, 3]"
      ]
     },
     "execution_count": 43,
     "metadata": {},
     "output_type": "execute_result"
    }
   ],
   "source": [
    "a"
   ]
  },
  {
   "cell_type": "code",
   "execution_count": 55,
   "id": "a60678b1-0a0d-42e6-abb7-df0cb9f5748e",
   "metadata": {},
   "outputs": [],
   "source": [
    "a = [0, 1, 2, 3]"
   ]
  },
  {
   "cell_type": "code",
   "execution_count": 57,
   "id": "2fb06cca-45d7-49d1-9a20-31b718a37f29",
   "metadata": {},
   "outputs": [],
   "source": [
    "b = a.copy()"
   ]
  },
  {
   "cell_type": "code",
   "execution_count": 59,
   "id": "d924bfc7-df5c-4fd4-882c-75d38d485e0a",
   "metadata": {},
   "outputs": [
    {
     "data": {
      "text/plain": [
       "[0, 1, 2, 3]"
      ]
     },
     "execution_count": 59,
     "metadata": {},
     "output_type": "execute_result"
    }
   ],
   "source": [
    "b"
   ]
  },
  {
   "cell_type": "code",
   "execution_count": 61,
   "id": "c53e7705-877e-4cfb-a762-102d1ad306c2",
   "metadata": {},
   "outputs": [
    {
     "name": "stdout",
     "output_type": "stream",
     "text": [
      "[0, 1, 2, 3] [100, 1, 2, 3]\n"
     ]
    }
   ],
   "source": [
    "b[0]=100\n",
    "print(a, b)"
   ]
  },
  {
   "cell_type": "code",
   "execution_count": 53,
   "id": "f4f72bf8-4973-4953-a4f7-546e1cfd1235",
   "metadata": {},
   "outputs": [
    {
     "data": {
      "text/plain": [
       "[100, 1, 2, 3]"
      ]
     },
     "execution_count": 53,
     "metadata": {},
     "output_type": "execute_result"
    }
   ],
   "source": [
    "b"
   ]
  },
  {
   "cell_type": "code",
   "execution_count": 63,
   "id": "9c40fd5a-7924-4272-ae1e-8b66b8f2525f",
   "metadata": {},
   "outputs": [
    {
     "name": "stdout",
     "output_type": "stream",
     "text": [
      "[1, 2, [3, 4]] [1, 2, [3, 4]]\n"
     ]
    }
   ],
   "source": [
    "a = [1, 2, [3, 4]]\n",
    "b = a.copy()\n",
    "print(a, b)"
   ]
  },
  {
   "cell_type": "code",
   "execution_count": 65,
   "id": "1bb90333-1e6e-41e4-b8fe-1b54113f9889",
   "metadata": {},
   "outputs": [
    {
     "name": "stdout",
     "output_type": "stream",
     "text": [
      "[1, 2, [3, 4]] [0, 2, [3, 4]]\n"
     ]
    }
   ],
   "source": [
    "b[0] = 0\n",
    "print(a, b)"
   ]
  },
  {
   "cell_type": "code",
   "execution_count": 67,
   "id": "d2a7947f-d18d-4cf7-b962-99f58305c5b8",
   "metadata": {},
   "outputs": [
    {
     "name": "stdout",
     "output_type": "stream",
     "text": [
      "[1, 2, [30, 4]] [0, 2, [30, 4]]\n"
     ]
    }
   ],
   "source": [
    "b[2][0] = 30\n",
    "print(a, b)"
   ]
  },
  {
   "cell_type": "code",
   "execution_count": 69,
   "id": "333a8910-8739-4016-a151-5aa4b81c4930",
   "metadata": {},
   "outputs": [
    {
     "name": "stdout",
     "output_type": "stream",
     "text": [
      "[1, 2, [3, 4]] [1, 2, [30, 4]]\n"
     ]
    }
   ],
   "source": [
    "from copy import deepcopy\n",
    "a = [1, 2, [3, 4]]\n",
    "b = deepcopy(a)\n",
    "b[2][0] = 30\n",
    "print(a, b)"
   ]
  },
  {
   "cell_type": "code",
   "execution_count": 71,
   "id": "db76de0f-a78e-42cb-83db-388cf39949d6",
   "metadata": {},
   "outputs": [],
   "source": [
    "a = list(range(9))"
   ]
  },
  {
   "cell_type": "code",
   "execution_count": 73,
   "id": "03b6c3a2-137c-4781-a00d-cb3364500de6",
   "metadata": {},
   "outputs": [
    {
     "data": {
      "text/plain": [
       "9"
      ]
     },
     "execution_count": 73,
     "metadata": {},
     "output_type": "execute_result"
    }
   ],
   "source": [
    "len(a)"
   ]
  },
  {
   "cell_type": "code",
   "execution_count": 75,
   "id": "3fe01b79-3acd-46c1-b66e-8c23fdde40d1",
   "metadata": {},
   "outputs": [
    {
     "data": {
      "text/plain": [
       "5"
      ]
     },
     "execution_count": 75,
     "metadata": {},
     "output_type": "execute_result"
    }
   ],
   "source": [
    "len('hello')"
   ]
  },
  {
   "cell_type": "code",
   "execution_count": 77,
   "id": "a4368d81-1c71-4b20-a179-b67c20eeaa56",
   "metadata": {},
   "outputs": [
    {
     "data": {
      "text/plain": [
       "4"
      ]
     },
     "execution_count": 77,
     "metadata": {},
     "output_type": "execute_result"
    }
   ],
   "source": [
    "a.index(4)"
   ]
  },
  {
   "cell_type": "code",
   "execution_count": 79,
   "id": "4f4603d7-06b8-456d-a315-5c28ab93faed",
   "metadata": {},
   "outputs": [
    {
     "data": {
      "text/plain": [
       "[0, 1, 2, 3, 4, 5, 6, 7, 8]"
      ]
     },
     "execution_count": 79,
     "metadata": {},
     "output_type": "execute_result"
    }
   ],
   "source": [
    "a"
   ]
  },
  {
   "cell_type": "code",
   "execution_count": 81,
   "id": "a1848b26-ece8-4bae-a610-73ce999233c3",
   "metadata": {},
   "outputs": [],
   "source": [
    "a[0] = 4"
   ]
  },
  {
   "cell_type": "code",
   "execution_count": 83,
   "id": "c968670e-8df4-450e-9cfd-dc204a06e245",
   "metadata": {},
   "outputs": [
    {
     "data": {
      "text/plain": [
       "0"
      ]
     },
     "execution_count": 83,
     "metadata": {},
     "output_type": "execute_result"
    }
   ],
   "source": [
    "a.index(4)"
   ]
  },
  {
   "cell_type": "code",
   "execution_count": 87,
   "id": "f2a29ef1-f644-433b-bc16-db68968fb130",
   "metadata": {},
   "outputs": [
    {
     "data": {
      "text/plain": [
       "[4, 1, 2, 3, 4, 5, 6, 7, 8]"
      ]
     },
     "execution_count": 87,
     "metadata": {},
     "output_type": "execute_result"
    }
   ],
   "source": [
    "a"
   ]
  },
  {
   "cell_type": "code",
   "execution_count": 89,
   "id": "c0e16697-93db-4804-b96f-1b1e22b0b414",
   "metadata": {},
   "outputs": [
    {
     "data": {
      "text/plain": [
       "4"
      ]
     },
     "execution_count": 89,
     "metadata": {},
     "output_type": "execute_result"
    }
   ],
   "source": [
    "a.index(4, 1)"
   ]
  },
  {
   "cell_type": "code",
   "execution_count": 91,
   "id": "13496f1d-7876-4e3f-906d-fd5c4315995b",
   "metadata": {},
   "outputs": [
    {
     "ename": "ValueError",
     "evalue": "9 is not in list",
     "output_type": "error",
     "traceback": [
      "\u001b[1;31m---------------------------------------------------------------------------\u001b[0m",
      "\u001b[1;31mValueError\u001b[0m                                Traceback (most recent call last)",
      "Cell \u001b[1;32mIn[91], line 1\u001b[0m\n\u001b[1;32m----> 1\u001b[0m a\u001b[38;5;241m.\u001b[39mindex(\u001b[38;5;241m9\u001b[39m)\n",
      "\u001b[1;31mValueError\u001b[0m: 9 is not in list"
     ]
    }
   ],
   "source": [
    "a.index(9)"
   ]
  },
  {
   "cell_type": "code",
   "execution_count": 93,
   "id": "08a75d68-4bd3-45e9-ad88-df247aee7ec3",
   "metadata": {},
   "outputs": [
    {
     "name": "stdout",
     "output_type": "stream",
     "text": [
      "not found.\n"
     ]
    }
   ],
   "source": [
    "if 9 in a:\n",
    "    print(a.index(9))\n",
    "else:\n",
    "    print('not found.')"
   ]
  },
  {
   "cell_type": "code",
   "execution_count": 95,
   "id": "ff212bf1-8cc1-4aae-a10e-5282e7feb8cd",
   "metadata": {},
   "outputs": [
    {
     "name": "stdout",
     "output_type": "stream",
     "text": [
      "[4, 1, 2, 3, 4, 5, 6, 7, 8]\n"
     ]
    }
   ],
   "source": [
    "print(a)\n",
    "a.append([1, 2])"
   ]
  },
  {
   "cell_type": "code",
   "execution_count": 97,
   "id": "7cea97a4-27ce-4a49-ab48-261f772b993c",
   "metadata": {},
   "outputs": [
    {
     "name": "stdout",
     "output_type": "stream",
     "text": [
      "[4, 1, 2, 3, 4, 5, 6, 7, 8, [1, 2]]\n"
     ]
    }
   ],
   "source": [
    "print(a)"
   ]
  },
  {
   "cell_type": "code",
   "execution_count": 101,
   "id": "ce84bf23-d85c-4dd1-92e2-2fd502e93cbf",
   "metadata": {},
   "outputs": [
    {
     "name": "stdout",
     "output_type": "stream",
     "text": [
      "[4, 1, 2, 3, 4, 5, 6, 7, 8, [1, 2], 1, 2]\n"
     ]
    }
   ],
   "source": [
    "a.extend([1, 2])\n",
    "print(a)"
   ]
  },
  {
   "cell_type": "code",
   "execution_count": 105,
   "id": "ede25118-b2dc-437a-a26f-412e8fd905c8",
   "metadata": {},
   "outputs": [
    {
     "name": "stdout",
     "output_type": "stream",
     "text": [
      "[0, 1, 2, 3, 4]\n"
     ]
    }
   ],
   "source": [
    "a = [0, 1, 2]\n",
    "b = [3, 4]\n",
    "a += b\n",
    "print(a)"
   ]
  },
  {
   "cell_type": "code",
   "execution_count": 107,
   "id": "0a62d452-716e-4884-80ad-3cb22ec13b74",
   "metadata": {},
   "outputs": [
    {
     "name": "stdout",
     "output_type": "stream",
     "text": [
      "[0, 1, 2, 3, 4]\n"
     ]
    }
   ],
   "source": [
    "a = [0, 1, 2]\n",
    "b = [3, 4]\n",
    "a = a + b\n",
    "print(a)"
   ]
  },
  {
   "cell_type": "code",
   "execution_count": 109,
   "id": "d4fec1a7-6e79-48ed-aee5-4d366095f9d9",
   "metadata": {},
   "outputs": [
    {
     "name": "stdout",
     "output_type": "stream",
     "text": [
      "[1, 2, 3, 4]\n",
      "[4, 3, 2, 1]\n"
     ]
    }
   ],
   "source": [
    "b = list(range(1, 5))\n",
    "print(b)\n",
    "b.reverse()\n",
    "print(b)"
   ]
  },
  {
   "cell_type": "code",
   "execution_count": 111,
   "id": "29d3857e-5d9c-4190-be24-1f99412ea93b",
   "metadata": {},
   "outputs": [],
   "source": [
    "b = list(range(1, 5))\n",
    "a = b.reverse()"
   ]
  },
  {
   "cell_type": "code",
   "execution_count": 113,
   "id": "b5af3e1a-b6f6-435b-b905-cba264bea33d",
   "metadata": {},
   "outputs": [
    {
     "name": "stdout",
     "output_type": "stream",
     "text": [
      "None\n"
     ]
    }
   ],
   "source": [
    "print(a)"
   ]
  },
  {
   "cell_type": "code",
   "execution_count": 117,
   "id": "2f8044d9-a534-4ba2-973b-1a24f1f6767a",
   "metadata": {},
   "outputs": [
    {
     "name": "stdout",
     "output_type": "stream",
     "text": [
      "HELLO\n"
     ]
    }
   ],
   "source": [
    "print('hello'.upper())"
   ]
  },
  {
   "cell_type": "code",
   "execution_count": 119,
   "id": "106f14c1-ddc9-45c8-9c3f-9f19c584c5ef",
   "metadata": {},
   "outputs": [
    {
     "name": "stdout",
     "output_type": "stream",
     "text": [
      "hello\n"
     ]
    }
   ],
   "source": [
    "a = 'hello'\n",
    "a.upper()\n",
    "print(a)"
   ]
  },
  {
   "cell_type": "code",
   "execution_count": 133,
   "id": "d3d8d9f1-8605-4469-8564-98a06d08b236",
   "metadata": {},
   "outputs": [
    {
     "name": "stdout",
     "output_type": "stream",
     "text": [
      "43.6 μs ± 3.01 μs per loop (mean ± std. dev. of 7 runs, 10,000 loops each)\n"
     ]
    }
   ],
   "source": [
    "%%timeit\n",
    "import random\n",
    "a = list()\n",
    "for x in range(100):\n",
    "    a.append(random.randint(0, 100))"
   ]
  },
  {
   "cell_type": "code",
   "execution_count": 129,
   "id": "c17da8c0-e18b-49a9-b3b5-9b85d1f5e2b1",
   "metadata": {},
   "outputs": [
    {
     "name": "stdout",
     "output_type": "stream",
     "text": [
      "40.3 μs ± 1.76 μs per loop (mean ± std. dev. of 7 runs, 10,000 loops each)\n"
     ]
    }
   ],
   "source": [
    "%%timeit\n",
    "import random\n",
    "a = [None] * 100\n",
    "for x in range(100):\n",
    "    a[x] = random.randint(0, 100)\n"
   ]
  },
  {
   "cell_type": "code",
   "execution_count": 125,
   "id": "2d16ac2f-30cf-4ffa-a05c-66f508dd95bc",
   "metadata": {},
   "outputs": [
    {
     "name": "stdout",
     "output_type": "stream",
     "text": [
      "================================================================================\n"
     ]
    }
   ],
   "source": [
    "print('=' * 80)"
   ]
  },
  {
   "cell_type": "code",
   "execution_count": 137,
   "id": "c18e8ec7-ba51-4ab7-9ba9-bb57eafaf75f",
   "metadata": {},
   "outputs": [
    {
     "name": "stdout",
     "output_type": "stream",
     "text": [
      "[0, 0, 1, 1, 1, 4, 4, 6, 7, 7, 10, 10, 12, 13, 14, 15, 15, 15, 16, 17, 17, 18, 19, 20, 22, 23, 27, 29, 30, 33, 35, 35, 36, 36, 36, 38, 39, 40, 42, 43, 43, 43, 43, 43, 45, 46, 46, 47, 48, 51, 51, 51, 56, 58, 58, 58, 61, 61, 63, 63, 65, 65, 65, 67, 68, 68, 69, 70, 70, 71, 73, 77, 77, 81, 81, 81, 83, 84, 84, 86, 88, 89, 89, 91, 91, 92, 92, 92, 93, 93, 94, 94, 94, 96, 96, 97, 97, 99, 99, 100]\n"
     ]
    }
   ],
   "source": [
    "b = sorted(a)\n",
    "print(b)"
   ]
  },
  {
   "cell_type": "code",
   "execution_count": 139,
   "id": "e41d19e0-4eb9-457c-8a7d-6c70b80a79be",
   "metadata": {},
   "outputs": [
    {
     "name": "stdout",
     "output_type": "stream",
     "text": [
      "[81, 51, 16, 29, 19, 43, 77, 1, 46, 61, 63, 17, 65, 77, 70, 88, 13, 10, 0, 42, 46, 33, 91, 93, 81, 68, 99, 1, 86, 96, 71, 35, 15, 97, 94, 0, 94, 38, 10, 14, 61, 92, 17, 51, 96, 83, 35, 65, 84, 58, 18, 69, 43, 99, 6, 97, 92, 63, 70, 7, 89, 43, 22, 43, 4, 43, 4, 92, 100, 20, 15, 40, 36, 84, 23, 56, 89, 65, 91, 36, 68, 73, 36, 94, 27, 48, 51, 67, 39, 15, 47, 58, 7, 12, 81, 30, 45, 93, 1, 58]\n"
     ]
    }
   ],
   "source": [
    "print(a)"
   ]
  },
  {
   "cell_type": "code",
   "execution_count": 141,
   "id": "10151d06-d3e8-403b-8714-20548508b59b",
   "metadata": {},
   "outputs": [
    {
     "name": "stdout",
     "output_type": "stream",
     "text": [
      "[0, 0, 1, 1, 1, 4, 4, 6, 7, 7, 10, 10, 12, 13, 14, 15, 15, 15, 16, 17, 17, 18, 19, 20, 22, 23, 27, 29, 30, 33, 35, 35, 36, 36, 36, 38, 39, 40, 42, 43, 43, 43, 43, 43, 45, 46, 46, 47, 48, 51, 51, 51, 56, 58, 58, 58, 61, 61, 63, 63, 65, 65, 65, 67, 68, 68, 69, 70, 70, 71, 73, 77, 77, 81, 81, 81, 83, 84, 84, 86, 88, 89, 89, 91, 91, 92, 92, 92, 93, 93, 94, 94, 94, 96, 96, 97, 97, 99, 99, 100]\n"
     ]
    }
   ],
   "source": [
    "a.sort()\n",
    "print(a)"
   ]
  },
  {
   "cell_type": "code",
   "execution_count": 143,
   "id": "eca12fef-a03e-40b0-a13a-89b9a501ee54",
   "metadata": {},
   "outputs": [
    {
     "name": "stdout",
     "output_type": "stream",
     "text": [
      "None\n"
     ]
    }
   ],
   "source": [
    "b = a.sort()\n",
    "print(b)"
   ]
  },
  {
   "cell_type": "code",
   "execution_count": 145,
   "id": "b7b37d51-fbd0-4ca0-a98b-ed853400dbc7",
   "metadata": {},
   "outputs": [
    {
     "name": "stdout",
     "output_type": "stream",
     "text": [
      "0 100 100\n"
     ]
    }
   ],
   "source": [
    "print(min(a), max(a), len(a))"
   ]
  },
  {
   "cell_type": "code",
   "execution_count": 147,
   "id": "499baa1b-bc37-4f70-85d8-26eae553084b",
   "metadata": {},
   "outputs": [
    {
     "data": {
      "text/plain": [
       "5182"
      ]
     },
     "execution_count": 147,
     "metadata": {},
     "output_type": "execute_result"
    }
   ],
   "source": [
    "sum(a)"
   ]
  },
  {
   "cell_type": "code",
   "execution_count": 149,
   "id": "639eca4b-0d74-40b5-bb10-37f18418f4f9",
   "metadata": {},
   "outputs": [
    {
     "data": {
      "text/plain": [
       "5050"
      ]
     },
     "execution_count": 149,
     "metadata": {},
     "output_type": "execute_result"
    }
   ],
   "source": [
    "sum(range(1, 101))"
   ]
  },
  {
   "cell_type": "code",
   "execution_count": 151,
   "id": "84fd951f-54df-45e8-9f2a-c906d80bccc0",
   "metadata": {},
   "outputs": [
    {
     "name": "stdout",
     "output_type": "stream",
     "text": [
      "154\n"
     ]
    }
   ],
   "source": [
    "day = 3\n",
    "month = 6\n",
    "days_in_month = [31, 28, 31, 30, 31, 30, 31, 31, 30, 31, 30, 31]\n",
    "\n",
    "count = day + sum(days_in_month[0:month - 1])\n",
    "\n",
    "print(count)"
   ]
  },
  {
   "cell_type": "code",
   "execution_count": 159,
   "id": "4004cd88-0a45-4650-b0b9-af070c6e3c89",
   "metadata": {},
   "outputs": [
    {
     "data": {
      "text/plain": [
       "'A'"
      ]
     },
     "execution_count": 159,
     "metadata": {},
     "output_type": "execute_result"
    }
   ],
   "source": [
    "lut = 'D' * 60 + 'C' * 10 + 'B' * 20 + 'A' * 11\n",
    "lut[95]"
   ]
  },
  {
   "cell_type": "code",
   "execution_count": 167,
   "id": "66cad845-56df-4033-ab95-7018a3fd0ad7",
   "metadata": {},
   "outputs": [
    {
     "name": "stdin",
     "output_type": "stream",
     "text": [
      "please input a score:  -1\n"
     ]
    }
   ],
   "source": [
    "score = int(input('please input a score: '))\n",
    "if 0 <= score <= 100:\n",
    "    print(f'Grade is {lut[score]}')"
   ]
  },
  {
   "cell_type": "code",
   "execution_count": 177,
   "id": "5a7185c9-2dc9-408c-86b8-f8ffb70b9502",
   "metadata": {},
   "outputs": [
    {
     "name": "stdout",
     "output_type": "stream",
     "text": [
      "[1, 2, 3, 4]\n"
     ]
    }
   ],
   "source": [
    "a = list(range(1, 5))\n",
    "print(a)"
   ]
  },
  {
   "cell_type": "code",
   "execution_count": 179,
   "id": "81db98d7-495c-4573-abc9-5080706929c2",
   "metadata": {},
   "outputs": [
    {
     "name": "stdout",
     "output_type": "stream",
     "text": [
      "[1, 2, 3, 4, 5]\n"
     ]
    }
   ],
   "source": [
    "a.append(5)\n",
    "print(a)"
   ]
  },
  {
   "cell_type": "code",
   "execution_count": 181,
   "id": "264d215e-2b6b-45e5-86ad-cf60a7c26f46",
   "metadata": {},
   "outputs": [
    {
     "name": "stdout",
     "output_type": "stream",
     "text": [
      "5\n"
     ]
    }
   ],
   "source": [
    "print(a.pop())"
   ]
  },
  {
   "cell_type": "code",
   "execution_count": 183,
   "id": "ae6bcb72-1a6d-41d5-abe0-fa93dddb57fb",
   "metadata": {},
   "outputs": [
    {
     "name": "stdout",
     "output_type": "stream",
     "text": [
      "[1, 2, 3, 4]\n"
     ]
    }
   ],
   "source": [
    "print(a)"
   ]
  },
  {
   "cell_type": "code",
   "execution_count": 189,
   "id": "41cc3c64-a90d-4cb9-b4dd-72645601f51b",
   "metadata": {},
   "outputs": [
    {
     "name": "stdin",
     "output_type": "stream",
     "text": [
      "Please input an expression:  [(])\n"
     ]
    },
    {
     "name": "stdout",
     "output_type": "stream",
     "text": [
      "Not match.\n"
     ]
    }
   ],
   "source": [
    "expression = input('Please input an expression: ')\n",
    "my_stack = list()\n",
    "left_quotes = '{[('\n",
    "right_quotes = '}])'\n",
    "\n",
    "not_match = False\n",
    "for ch in expression:\n",
    "    if ch in left_quotes:\n",
    "        my_stack.append(ch)\n",
    "    elif ch in right_quotes:\n",
    "        if my_stack == []:\n",
    "            not_match = True\n",
    "            break\n",
    "        else:\n",
    "            left_ch = my_stack.pop()\n",
    "            if left_quotes.index(left_ch) != right_quotes.index(ch):\n",
    "                not_match = True\n",
    "                break\n",
    "if not_match or my_stack != []:\n",
    "    print('Not match.')\n",
    "else:\n",
    "    print('Match.')\n",
    "        "
   ]
  },
  {
   "cell_type": "code",
   "execution_count": 193,
   "id": "52734591-0035-4df9-a9c6-1fb944490281",
   "metadata": {},
   "outputs": [
    {
     "name": "stdout",
     "output_type": "stream",
     "text": [
      "[16880, 16698, 16602, 16659, 16529, 16632]\n"
     ]
    },
    {
     "data": {
      "image/png": "[encoded data removed]",
      "text/plain": [
       "<Figure size 640x480 with 1 Axes>"
      ]
     },
     "metadata": {},
     "output_type": "display_data"
    }
   ],
   "source": [
    "import random\n",
    "import matplotlib.pyplot as plt \n",
    "\n",
    "count = [0] * 6\n",
    "for _ in range(100000):\n",
    "    count[random.randint(0, 5)] += 1\n",
    "print(count)\n",
    "\n",
    "plt.bar(range(1, 7), count)\n",
    "plt.show()"
   ]
  },
  {
   "cell_type": "code",
   "execution_count": 197,
   "id": "a04b2f1b-c6b7-47c8-ad16-913ef72cb89c",
   "metadata": {},
   "outputs": [
    {
     "data": {
      "image/png": "[encoded data removed]",
      "text/plain": [
       "<Figure size 640x480 with 1 Axes>"
      ]
     },
     "metadata": {},
     "output_type": "display_data"
    }
   ],
   "source": [
    "import random\n",
    "count = [0] * 6\n",
    "portions = [[], [], [], [], [], []]\n",
    "for j in range(0, 1000):\n",
    "    for i in range(0, 50):\n",
    "        count[random.randint(0, 5)] += 1\n",
    "    for i in range(0, 6):\n",
    "        portions[i].append(count[i] / sum(count))\n",
    "\n",
    "import matplotlib.pyplot as plt\n",
    "fig, ax = plt.subplots()\n",
    "x = list(range(1000))\n",
    "plt.plot(x, portions[0], 'r', x, portions[1], 'b', x, portions[2], 'g', \n",
    "         x, portions[3], '', x, portions[4], '', x, portions[5], '')\n",
    "plt.show()"
   ]
  },
  {
   "cell_type": "code",
   "execution_count": 199,
   "id": "6ef67006-3dc1-4a5d-97f4-54dc04c78f7a",
   "metadata": {},
   "outputs": [],
   "source": [
    "a = [1, 2, 3]\n",
    "a.append(4)"
   ]
  },
  {
   "cell_type": "code",
   "execution_count": 201,
   "id": "982e6700-ca7a-4a7a-bae4-dea57de0942f",
   "metadata": {},
   "outputs": [
    {
     "data": {
      "text/plain": [
       "[1, 2, 3, 4]"
      ]
     },
     "execution_count": 201,
     "metadata": {},
     "output_type": "execute_result"
    }
   ],
   "source": [
    "a"
   ]
  },
  {
   "cell_type": "code",
   "execution_count": 203,
   "id": "5eacf73c-4693-4f0a-9656-039111960124",
   "metadata": {},
   "outputs": [
    {
     "name": "stdout",
     "output_type": "stream",
     "text": [
      "1\n"
     ]
    }
   ],
   "source": [
    "print(a.pop(0))"
   ]
  },
  {
   "cell_type": "code",
   "execution_count": 205,
   "id": "e6d63cf9-6904-4df9-8660-59de48d40432",
   "metadata": {},
   "outputs": [
    {
     "name": "stdout",
     "output_type": "stream",
     "text": [
      "[2, 3, 4]\n"
     ]
    }
   ],
   "source": [
    "print(a)"
   ]
  },
  {
   "cell_type": "code",
   "execution_count": 209,
   "id": "a8bd1b4d-bef7-4fac-96ef-2630e61dbbda",
   "metadata": {},
   "outputs": [
    {
     "name": "stdout",
     "output_type": "stream",
     "text": [
      "46\n"
     ]
    }
   ],
   "source": [
    "import random\n",
    "count = 0\n",
    "last_three = [0, 0, 0]\n",
    "for _ in range(10000):\n",
    "    last_three.pop(0)\n",
    "    last_three.append(random.randint(1, 6))\n",
    "    if last_three == [6, 6, 6]:\n",
    "        count += 1\n",
    "print(count)"
   ]
  },
  {
   "cell_type": "code",
   "execution_count": 211,
   "id": "aa37e279-6880-49d2-92a2-27b87531cac0",
   "metadata": {},
   "outputs": [],
   "source": [
    "a = list(range(1, 10))"
   ]
  },
  {
   "cell_type": "code",
   "execution_count": 213,
   "id": "7795998f-103e-4f62-b83f-97ce94ce0866",
   "metadata": {},
   "outputs": [
    {
     "data": {
      "text/plain": [
       "[1, 2, 3, 4, 5, 6, 7, 8, 9]"
      ]
     },
     "execution_count": 213,
     "metadata": {},
     "output_type": "execute_result"
    }
   ],
   "source": [
    "a"
   ]
  },
  {
   "cell_type": "code",
   "execution_count": 215,
   "id": "b16447a4-412c-4d1f-8f78-0af2e65db7f6",
   "metadata": {},
   "outputs": [
    {
     "name": "stdout",
     "output_type": "stream",
     "text": [
      "[1, 4, 9, 16, 25, 36, 49, 64, 81]\n"
     ]
    }
   ],
   "source": [
    "b = []\n",
    "for x in a:\n",
    "    b.append(x * x)\n",
    "print(b)"
   ]
  },
  {
   "cell_type": "code",
   "execution_count": 221,
   "id": "061323c5-2012-482b-8f00-4b373894c6ef",
   "metadata": {},
   "outputs": [],
   "source": [
    "b = [x * x for x in a]"
   ]
  },
  {
   "cell_type": "code",
   "execution_count": 223,
   "id": "cf77fbbb-3ce0-4476-bebe-4d2945609052",
   "metadata": {},
   "outputs": [
    {
     "data": {
      "text/plain": [
       "[1, 4, 9, 16, 25, 36, 49, 64, 81]"
      ]
     },
     "execution_count": 223,
     "metadata": {},
     "output_type": "execute_result"
    }
   ],
   "source": [
    "b"
   ]
  },
  {
   "cell_type": "code",
   "execution_count": 225,
   "id": "cb52e23e-e209-4c27-bd6d-49a40145e31f",
   "metadata": {},
   "outputs": [],
   "source": [
    "a = [random.gauss(0, 1) for _ in range(100)]"
   ]
  },
  {
   "cell_type": "code",
   "execution_count": 229,
   "id": "80437e9d-10e3-4766-9729-89160de11eca",
   "metadata": {},
   "outputs": [
    {
     "name": "stdout",
     "output_type": "stream",
     "text": [
      "[3, 6, 9, 12, 15, 18, 21, 24, 27, 30, 33, 36, 39, 42, 45, 48, 51, 54, 57, 60, 63, 66, 69, 72, 75, 78, 81, 84, 87, 90, 93, 96, 99]\n"
     ]
    }
   ],
   "source": [
    "a = [x for x in range(1, 101) if x % 3 == 0]\n",
    "print(a)"
   ]
  },
  {
   "cell_type": "code",
   "execution_count": 231,
   "id": "65f1ecc4-6a26-40cb-9498-19106dbfdf75",
   "metadata": {},
   "outputs": [],
   "source": [
    "a = [random.gauss(0, 1) for _ in range(10000)]"
   ]
  },
  {
   "cell_type": "code",
   "execution_count": 233,
   "id": "c6ec78af-360b-49cd-8a66-f67d41c910d1",
   "metadata": {},
   "outputs": [
    {
     "data": {
      "text/plain": [
       "(array([1.000e+00, 0.000e+00, 4.000e+00, 5.000e+00, 9.000e+00, 3.100e+01,\n",
       "        7.000e+01, 1.100e+02, 1.890e+02, 3.420e+02, 5.070e+02, 7.320e+02,\n",
       "        8.890e+02, 9.840e+02, 1.080e+03, 1.114e+03, 1.039e+03, 8.810e+02,\n",
       "        6.860e+02, 5.390e+02, 3.530e+02, 2.110e+02, 1.260e+02, 4.800e+01,\n",
       "        2.900e+01, 1.200e+01, 6.000e+00, 1.000e+00, 1.000e+00, 1.000e+00]),\n",
       " array([-4.23288731, -3.95205489, -3.67122246, -3.39039003, -3.1095576 ,\n",
       "        -2.82872517, -2.54789275, -2.26706032, -1.98622789, -1.70539546,\n",
       "        -1.42456304, -1.14373061, -0.86289818, -0.58206575, -0.30123333,\n",
       "        -0.0204009 ,  0.26043153,  0.54126396,  0.82209638,  1.10292881,\n",
       "         1.38376124,  1.66459367,  1.9454261 ,  2.22625852,  2.50709095,\n",
       "         2.78792338,  3.06875581,  3.34958823,  3.63042066,  3.91125309,\n",
       "         4.19208552]),\n",
       " <BarContainer object of 30 artists>)"
      ]
     },
     "execution_count": 233,
     "metadata": {},
     "output_type": "execute_result"
    },
    {
     "data": {
      "image/png": "[encoded data removed]",
      "text/plain": [
       "<Figure size 640x480 with 1 Axes>"
      ]
     },
     "metadata": {},
     "output_type": "display_data"
    }
   ],
   "source": [
    "plt.hist(a, bins=30)"
   ]
  },
  {
   "cell_type": "code",
   "execution_count": 235,
   "id": "696d157f-dc7d-45f5-a7f5-fc10be395d53",
   "metadata": {},
   "outputs": [],
   "source": [
    "x, y = 1, 2"
   ]
  },
  {
   "cell_type": "code",
   "execution_count": 239,
   "id": "9e7185b3-58c5-4af5-bd31-bcfdd506951b",
   "metadata": {},
   "outputs": [
    {
     "name": "stdout",
     "output_type": "stream",
     "text": [
      "2 1\n"
     ]
    }
   ],
   "source": [
    "x, y = y, x\n",
    "print(x, y)"
   ]
  },
  {
   "cell_type": "code",
   "execution_count": 255,
   "id": "9a26019b-9c1c-4d87-a550-b388bff0c7ac",
   "metadata": {},
   "outputs": [],
   "source": [
    "x= [x for x in range(10) for y in range(10)]"
   ]
  },
  {
   "cell_type": "code",
   "execution_count": 257,
   "id": "eb26f928-c957-4132-a319-7dbdcc4737c7",
   "metadata": {},
   "outputs": [
    {
     "name": "stdout",
     "output_type": "stream",
     "text": [
      "[0, 0, 0, 0, 0, 0, 0, 0, 0, 0, 1, 1, 1, 1, 1, 1, 1, 1, 1, 1, 2, 2, 2, 2, 2, 2, 2, 2, 2, 2, 3, 3, 3, 3, 3, 3, 3, 3, 3, 3, 4, 4, 4, 4, 4, 4, 4, 4, 4, 4, 5, 5, 5, 5, 5, 5, 5, 5, 5, 5, 6, 6, 6, 6, 6, 6, 6, 6, 6, 6, 7, 7, 7, 7, 7, 7, 7, 7, 7, 7, 8, 8, 8, 8, 8, 8, 8, 8, 8, 8, 9, 9, 9, 9, 9, 9, 9, 9, 9, 9]\n"
     ]
    }
   ],
   "source": [
    "print(x)"
   ]
  },
  {
   "cell_type": "code",
   "execution_count": 259,
   "id": "5ba96f17-f6c0-42c2-abb1-b936e56fb63b",
   "metadata": {},
   "outputs": [
    {
     "name": "stdout",
     "output_type": "stream",
     "text": [
      "[0, 1, 2, 3, 4, 5, 6, 7, 8, 9, 0, 1, 2, 3, 4, 5, 6, 7, 8, 9, 0, 1, 2, 3, 4, 5, 6, 7, 8, 9, 0, 1, 2, 3, 4, 5, 6, 7, 8, 9, 0, 1, 2, 3, 4, 5, 6, 7, 8, 9, 0, 1, 2, 3, 4, 5, 6, 7, 8, 9, 0, 1, 2, 3, 4, 5, 6, 7, 8, 9, 0, 1, 2, 3, 4, 5, 6, 7, 8, 9, 0, 1, 2, 3, 4, 5, 6, 7, 8, 9, 0, 1, 2, 3, 4, 5, 6, 7, 8, 9]\n"
     ]
    }
   ],
   "source": [
    "y = [y for x in range(10) for y in range(10)]\n",
    "print(y)"
   ]
  },
  {
   "cell_type": "code",
   "execution_count": 261,
   "id": "77bb48b9-50f3-438e-a1f4-fde4399e4080",
   "metadata": {},
   "outputs": [
    {
     "data": {
      "image/png": "[encoded data removed]",
      "text/plain": [
       "<Figure size 640x480 with 1 Axes>"
      ]
     },
     "metadata": {},
     "output_type": "display_data"
    }
   ],
   "source": [
    "plt.scatter(x, y)\n",
    "plt.show()"
   ]
  },
  {
   "cell_type": "code",
   "execution_count": 263,
   "id": "7b484b94-12eb-488a-9b07-527d31229b15",
   "metadata": {},
   "outputs": [],
   "source": [
    "z = [ xi * xi + yi * yi for xi, yi in zip(x, y)]"
   ]
  },
  {
   "cell_type": "code",
   "execution_count": 267,
   "id": "32192b9f-4a3c-4c95-94a3-a401a57afb21",
   "metadata": {},
   "outputs": [
    {
     "data": {
      "image/png": "[encoded data removed]",
      "text/plain": [
       "<Figure size 1000x800 with 1 Axes>"
      ]
     },
     "metadata": {},
     "output_type": "display_data"
    }
   ],
   "source": [
    "import numpy as np\n",
    "X = np.array(x).reshape(10, 10)\n",
    "Y = np.array(y).reshape(10, 10)\n",
    "Z = np.array(z).reshape(10, 10)\n",
    "fig = plt.figure(figsize=(10, 8))\n",
    "ax = fig.subplots(subplot_kw={\"projection\": \"3d\"})\n",
    "surf = ax.plot_surface(X, Y, Z, cmap='plasma')\n"
   ]
  },
  {
   "cell_type": "markdown",
   "id": "742284e0-29d2-4213-9e7a-f4d1f8a3740b",
   "metadata": {},
   "source": [
    "## "
   ]
  }
 ],
 "metadata": {
  "kernelspec": {
   "display_name": "Python 3 (ipykernel)",
   "language": "python",
   "name": "python3"
  },
  "language_info": {
   "codemirror_mode": {
    "name": "ipython",
    "version": 3
   },
   "file_extension": ".py",
   "mimetype": "text/x-python",
   "name": "python",
   "nbconvert_exporter": "python",
   "pygments_lexer": "ipython3",
   "version": "3.12.4"
  }
 },
 "nbformat": 4,
 "nbformat_minor": 5
}
